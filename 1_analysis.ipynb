{
  "nbformat": 4,
  "nbformat_minor": 0,
  "metadata": {
    "colab": {
      "name": "Untitled1.ipynb",
      "provenance": [],
      "collapsed_sections": [],
      "authorship_tag": "ABX9TyN3/XBf0pIcNBvnh9NKcEe3",
      "include_colab_link": true
    },
    "kernelspec": {
      "name": "python3",
      "display_name": "Python 3"
    }
  },
  "cells": [
    {
      "cell_type": "markdown",
      "metadata": {
        "id": "view-in-github",
        "colab_type": "text"
      },
      "source": [
        "<a href=\"https://colab.research.google.com/github/isacki/learning-git/blob/master/1_analysis.ipynb\" target=\"_parent\"><img src=\"https://colab.research.google.com/assets/colab-badge.svg\" alt=\"Open In Colab\"/></a>"
      ]
    },
    {
      "cell_type": "code",
      "metadata": {
        "id": "3q8kNQcLYSq7",
        "colab_type": "code",
        "colab": {
          "base_uri": "https://localhost:8080/",
          "height": 255
        },
        "outputId": "f3c97ee2-50ff-40a0-fd41-b352a4781f98"
      },
      "source": [
        "import pandas as pd\n",
        "data = pd.read_csv('https://raw.githubusercontent.com/isacki/ai3project/master/owid-covid-data.csv?token=AJ5EKDWMALGLUJD2RAE2G6K7C7UPW');\n",
        "\n",
        "print(data)"
      ],
      "execution_count": 6,
      "outputs": [
        {
          "output_type": "stream",
          "text": [
            "      iso_code continent  ... hospital_beds_per_thousand life_expectancy\n",
            "0          AFG      Asia  ...                        0.5           64.83\n",
            "1          AFG      Asia  ...                        0.5           64.83\n",
            "2          AFG      Asia  ...                        0.5           64.83\n",
            "3          AFG      Asia  ...                        0.5           64.83\n",
            "4          AFG      Asia  ...                        0.5           64.83\n",
            "...        ...       ...  ...                        ...             ...\n",
            "31700      NaN       NaN  ...                        NaN             NaN\n",
            "31701      NaN       NaN  ...                        NaN             NaN\n",
            "31702      NaN       NaN  ...                        NaN             NaN\n",
            "31703      NaN       NaN  ...                        NaN             NaN\n",
            "31704      NaN       NaN  ...                        NaN             NaN\n",
            "\n",
            "[31705 rows x 34 columns]\n"
          ],
          "name": "stdout"
        }
      ]
    }
  ]
}